{
 "cells": [
  {
   "cell_type": "code",
   "execution_count": 7,
   "id": "1765f13e",
   "metadata": {},
   "outputs": [],
   "source": [
    "from pathlib import Path"
   ]
  },
  {
   "cell_type": "code",
   "execution_count": 1,
   "id": "5558a701",
   "metadata": {},
   "outputs": [],
   "source": [
    "from joblib import load"
   ]
  },
  {
   "cell_type": "code",
   "execution_count": 5,
   "id": "b01e1257",
   "metadata": {},
   "outputs": [
    {
     "name": "stdout",
     "output_type": "stream",
     "text": [
      "LinearRegression()\n"
     ]
    }
   ],
   "source": [
    "# load model\n",
    "\n",
    "rain_model = load('precipitation.pkl')\n",
    "print(rain_model)"
   ]
  },
  {
   "cell_type": "code",
   "execution_count": 6,
   "id": "18ff9c5f",
   "metadata": {},
   "outputs": [
    {
     "name": "stdout",
     "output_type": "stream",
     "text": [
      "['soil_moisture_7_to_28cm_mean (m³/m³)', 'wind_gusts_10m_max (km/h)', 'relative_humidity_2m_min (%)', 'wet_bulb_temperature_2m_max (°C)', 'vapour_pressure_deficit_max (kPa)', 'temperature_2m_mean (°C)', 'surface_pressure_mean (hPa)', 'relative_humidity_2m_max (%)', 'temperature_2m_min (°C)', 'cloud_cover_mean (%)', 'dew_point_2m_mean (°C)', 'sunshine_duration (s)', 'temperature_2m_max (°C)', 'pressure_msl_min (hPa)', 'apparent_temperature_max (°C)', 'soil_temperature_0_to_7cm_mean (°C)', 'wet_bulb_temperature_2m_min (°C)', 'soil_moisture_0_to_7cm_mean (m³/m³)', 'wind_speed_10m_min (km/h)', 'soil_temperature_28_to_100cm_mean (°C)', 'soil_temperature_0_to_100cm_mean (°C)', 'soil_moisture_28_to_100cm_mean (m³/m³)', 'relative_humidity_2m_mean (%)', 'dew_point_2m_min (°C)', 'surface_pressure_min (hPa)', 'weather_code (wmo code)', 'et0_fao_evapotranspiration (mm)', 'cloud_cover_min (%)', 'wet_bulb_temperature_2m_mean (°C)', 'apparent_temperature_min (°C)', 'snowfall_water_equivalent_sum (mm)', 'wind_speed_10m_mean (km/h)', 'rain_sum (mm)', 'wind_direction_10m_dominant (°)', 'et0_fao_evapotranspiration_sum (mm)', 'pressure_msl_mean (hPa)', 'snowfall_sum (cm)', 'apparent_temperature_mean (°C)', 'winddirection_10m_dominant (°)', 'daylight_duration (s)', 'soil_moisture_0_to_100cm_mean (m³/m³)', 'wind_gusts_10m_min (km/h)', 'wind_gusts_10m_mean (km/h)', 'precipitation_sum (mm)', 'dew_point_2m_max (°C)', 'shortwave_radiation_sum (MJ/m²)', 'cloud_cover_max (%)', 'soil_temperature_7_to_28cm_mean (°C)', 'wind_speed_10m_max (km/h)', 'precipitation_hours (h)']\n",
      "50\n"
     ]
    }
   ],
   "source": [
    "# get the features\n",
    "\n",
    "features = rain_model.feature_names_in_.tolist()\n",
    "print(features)\n",
    "\n",
    "# length of features\n",
    "\n",
    "print(len(features))"
   ]
  },
  {
   "cell_type": "code",
   "execution_count": 9,
   "id": "99acf67f",
   "metadata": {},
   "outputs": [
    {
     "name": "stdout",
     "output_type": "stream",
     "text": [
      "C:\\FILE IQBAL\\KULIAH_MDSI\\MDSI\\SEMESTER 4\\AMLA\\AT2_API\\at2_api_muhammad_iqbal\\models\n"
     ]
    }
   ],
   "source": [
    "# get current directory\n",
    "current_dir = Path().parent.resolve()\n",
    "print(current_dir)"
   ]
  },
  {
   "cell_type": "code",
   "execution_count": 10,
   "id": "2361251a",
   "metadata": {},
   "outputs": [
    {
     "name": "stdout",
     "output_type": "stream",
     "text": [
      "C:\\FILE IQBAL\\KULIAH_MDSI\\MDSI\\SEMESTER 4\\AMLA\\AT2_API\\at2_api_muhammad_iqbal\\data\n"
     ]
    }
   ],
   "source": [
    "# get parent directory\n",
    "\n",
    "parent_dir = current_dir.parent\n",
    "data = parent_dir / 'data'\n",
    "\n",
    "print(data)"
   ]
  },
  {
   "cell_type": "code",
   "execution_count": 14,
   "id": "0bd66e3a",
   "metadata": {},
   "outputs": [],
   "source": [
    "# load regres files\n",
    "import pandas as pd\n",
    "\n",
    "precip = data / 'regres_features.csv'\n",
    "\n",
    "df = pd.read_csv(precip)\n",
    "\n",
    "features_file = [a for a in df.columns]"
   ]
  },
  {
   "cell_type": "code",
   "execution_count": 15,
   "id": "2c6b2b51",
   "metadata": {},
   "outputs": [
    {
     "name": "stdout",
     "output_type": "stream",
     "text": [
      "Features from model:\n",
      "50\n",
      "['soil_moisture_7_to_28cm_mean (m³/m³)', 'wind_gusts_10m_max (km/h)', 'relative_humidity_2m_min (%)', 'wet_bulb_temperature_2m_max (°C)', 'vapour_pressure_deficit_max (kPa)', 'temperature_2m_mean (°C)', 'surface_pressure_mean (hPa)', 'relative_humidity_2m_max (%)', 'temperature_2m_min (°C)', 'cloud_cover_mean (%)', 'dew_point_2m_mean (°C)', 'sunshine_duration (s)', 'temperature_2m_max (°C)', 'pressure_msl_min (hPa)', 'apparent_temperature_max (°C)', 'soil_temperature_0_to_7cm_mean (°C)', 'wet_bulb_temperature_2m_min (°C)', 'soil_moisture_0_to_7cm_mean (m³/m³)', 'wind_speed_10m_min (km/h)', 'soil_temperature_28_to_100cm_mean (°C)', 'soil_temperature_0_to_100cm_mean (°C)', 'soil_moisture_28_to_100cm_mean (m³/m³)', 'relative_humidity_2m_mean (%)', 'dew_point_2m_min (°C)', 'surface_pressure_min (hPa)', 'weather_code (wmo code)', 'et0_fao_evapotranspiration (mm)', 'cloud_cover_min (%)', 'wet_bulb_temperature_2m_mean (°C)', 'apparent_temperature_min (°C)', 'snowfall_water_equivalent_sum (mm)', 'wind_speed_10m_mean (km/h)', 'rain_sum (mm)', 'wind_direction_10m_dominant (°)', 'et0_fao_evapotranspiration_sum (mm)', 'pressure_msl_mean (hPa)', 'snowfall_sum (cm)', 'apparent_temperature_mean (°C)', 'winddirection_10m_dominant (°)', 'daylight_duration (s)', 'soil_moisture_0_to_100cm_mean (m³/m³)', 'wind_gusts_10m_min (km/h)', 'wind_gusts_10m_mean (km/h)', 'precipitation_sum (mm)', 'dew_point_2m_max (°C)', 'shortwave_radiation_sum (MJ/m²)', 'cloud_cover_max (%)', 'soil_temperature_7_to_28cm_mean (°C)', 'wind_speed_10m_max (km/h)', 'precipitation_hours (h)']\n",
      "\n",
      "Features from file:\n",
      "52\n",
      "['time', 'soil_moisture_7_to_28cm_mean (m³/m³)', 'wind_gusts_10m_max (km/h)', 'relative_humidity_2m_min (%)', 'wet_bulb_temperature_2m_max (°C)', 'vapour_pressure_deficit_max (kPa)', 'temperature_2m_mean (°C)', 'surface_pressure_mean (hPa)', 'relative_humidity_2m_max (%)', 'temperature_2m_min (°C)', 'cloud_cover_mean (%)', 'dew_point_2m_mean (°C)', 'sunshine_duration (s)', 'temperature_2m_max (°C)', 'pressure_msl_min (hPa)', 'apparent_temperature_max (°C)', 'soil_temperature_0_to_7cm_mean (°C)', 'wet_bulb_temperature_2m_min (°C)', 'soil_moisture_0_to_7cm_mean (m³/m³)', 'wind_speed_10m_min (km/h)', 'soil_temperature_28_to_100cm_mean (°C)', 'soil_temperature_0_to_100cm_mean (°C)', 'soil_moisture_28_to_100cm_mean (m³/m³)', 'relative_humidity_2m_mean (%)', 'dew_point_2m_min (°C)', 'surface_pressure_min (hPa)', 'weather_code (wmo code)', 'et0_fao_evapotranspiration (mm)', 'cloud_cover_min (%)', 'wet_bulb_temperature_2m_mean (°C)', 'apparent_temperature_min (°C)', 'snowfall_water_equivalent_sum (mm)', 'wind_speed_10m_mean (km/h)', 'rain_sum (mm)', 'wind_direction_10m_dominant (°)', 'et0_fao_evapotranspiration_sum (mm)', 'pressure_msl_mean (hPa)', 'snowfall_sum (cm)', 'apparent_temperature_mean (°C)', 'winddirection_10m_dominant (°)', 'daylight_duration (s)', 'soil_moisture_0_to_100cm_mean (m³/m³)', 'wind_gusts_10m_min (km/h)', 'wind_gusts_10m_mean (km/h)', 'precipitation_sum (mm)', 'dew_point_2m_max (°C)', 'shortwave_radiation_sum (MJ/m²)', 'cloud_cover_max (%)', 'soil_temperature_7_to_28cm_mean (°C)', 'wind_speed_10m_max (km/h)', 'precipitation_hours (h)', 'volume_in_3_days']\n"
     ]
    }
   ],
   "source": [
    "# compare features from model and features from file\n",
    "\n",
    "print(\"Features from model:\")\n",
    "print(len(features))\n",
    "print(features)\n",
    "print(\"\\nFeatures from file:\")\n",
    "print(len(features_file))\n",
    "print(features_file)"
   ]
  },
  {
   "cell_type": "code",
   "execution_count": 16,
   "id": "64d97f2d",
   "metadata": {},
   "outputs": [
    {
     "name": "stdout",
     "output_type": "stream",
     "text": [
      "\n",
      "Features in model but not in file:\n",
      "set()\n",
      "\n",
      "Features in file but not in model:\n",
      "{'time', 'volume_in_3_days'}\n"
     ]
    }
   ],
   "source": [
    "# check the difference\n",
    "\n",
    "diff_model_file = set(features) - set(features_file)\n",
    "print(\"\\nFeatures in model but not in file:\")\n",
    "print(diff_model_file)\n",
    "\n",
    "diff_file_model = set(features_file) - set(features)\n",
    "print(\"\\nFeatures in file but not in model:\")\n",
    "print(diff_file_model)"
   ]
  }
 ],
 "metadata": {
  "kernelspec": {
   "display_name": "3.11.4",
   "language": "python",
   "name": "python3"
  },
  "language_info": {
   "codemirror_mode": {
    "name": "ipython",
    "version": 3
   },
   "file_extension": ".py",
   "mimetype": "text/x-python",
   "name": "python",
   "nbconvert_exporter": "python",
   "pygments_lexer": "ipython3",
   "version": "3.11.4"
  }
 },
 "nbformat": 4,
 "nbformat_minor": 5
}
